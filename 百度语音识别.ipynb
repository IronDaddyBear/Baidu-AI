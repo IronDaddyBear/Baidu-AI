{
 "cells": [
  {
   "cell_type": "code",
   "execution_count": 29,
   "id": "74c1fb08",
   "metadata": {},
   "outputs": [],
   "source": [
    "from aip import AipSpeech\n",
    "\n",
    "\"\"\" 你的 APPID AK SK \"\"\"\n",
    "APP_ID = '24733858'\n",
    "API_KEY = 'WfEsZ9h8ZvbkmZlZ3HQWV4tA'\n",
    "SECRET_KEY = 'uCwir6x9dnoSk2CpytsjdYiaKNquM2w7'\n",
    "\n",
    "client = AipSpeech(APP_ID, API_KEY, SECRET_KEY)"
   ]
  },
  {
   "cell_type": "code",
   "execution_count": 30,
   "id": "c4576db5",
   "metadata": {},
   "outputs": [
    {
     "data": {
      "text/plain": [
       "{'__json_decode_error': b'<html>\\r\\n<head><title>400 Bad Request</title></head>\\r\\n<body bgcolor=\"white\">\\r\\n<center><h1>400 Bad Request</h1></center>\\r\\n<hr><center>nginx/1.8.0</center>\\r\\n</body>\\r\\n</html>\\r\\n'}"
      ]
     },
     "execution_count": 30,
     "metadata": {},
     "output_type": "execute_result"
    }
   ],
   "source": [
    "# 读取文件\n",
    "def get_file_content(filePath):\n",
    "    with open(filePath, 'rb') as fp:\n",
    "        return fp.read()\n",
    "\n",
    "# 识别本地文件\n",
    "client.asr(get_file_content('16k.pcm'), 'pcm', 16000, {\n",
    "    'dev_pid': 1537,\n",
    "})"
   ]
  },
  {
   "cell_type": "code",
   "execution_count": null,
   "id": "b473380b",
   "metadata": {},
   "outputs": [],
   "source": []
  }
 ],
 "metadata": {
  "kernelspec": {
   "display_name": "Python 3",
   "language": "python",
   "name": "python3"
  },
  "language_info": {
   "codemirror_mode": {
    "name": "ipython",
    "version": 3
   },
   "file_extension": ".py",
   "mimetype": "text/x-python",
   "name": "python",
   "nbconvert_exporter": "python",
   "pygments_lexer": "ipython3",
   "version": "3.8.8"
  }
 },
 "nbformat": 4,
 "nbformat_minor": 5
}
