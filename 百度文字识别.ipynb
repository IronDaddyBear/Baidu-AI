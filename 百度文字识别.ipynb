{
 "cells": [
  {
   "cell_type": "code",
   "execution_count": 17,
   "id": "5d0cac02",
   "metadata": {},
   "outputs": [],
   "source": [
    "from aip import AipOcr\n",
    "\n",
    "\"\"\" 你的 APPID AK SK \"\"\"\n",
    "APP_ID = '24733858'\n",
    "API_KEY = 'WfEsZ9h8ZvbkmZlZ3HQWV4tA'\n",
    "SECRET_KEY = 'uCwir6x9dnoSk2CpytsjdYiaKNquM2w7'\n",
    "\n",
    "client = AipOcr(APP_ID, API_KEY, SECRET_KEY)"
   ]
  },
  {
   "cell_type": "code",
   "execution_count": 20,
   "id": "3fb16bd0",
   "metadata": {},
   "outputs": [
    {
     "data": {
      "text/plain": [
       "{'words_result': [{'words': '学习手册'},\n",
       "  {'words': '试读本'},\n",
       "  {'words': 'Python编程'},\n",
       "  {'words': '从入门到实践'},\n",
       "  {'words': 'A HANDS-ON, PROJECT-BASED'},\n",
       "  {'words': 'INTRODUCTION TO PROGRAMMING'},\n",
       "  {'words': '解决100万蟒蛇书读者遇到的常见问题'},\n",
       "  {'words': '美]埃里克·马瑟斯'},\n",
       "  {'words': '豌豆花下猫'},\n",
       "  {'words': '著'}],\n",
       " 'words_result_num': 10,\n",
       " 'log_id': 1429465033043662701}"
      ]
     },
     "execution_count": 20,
     "metadata": {},
     "output_type": "execute_result"
    }
   ],
   "source": [
    "\"\"\" 读取图片 \"\"\"\n",
    "def get_file_content(filePath):\n",
    "    with open(filePath, 'rb') as fp:\n",
    "        return fp.read()\n",
    "\n",
    "image = get_file_content('PythonOCR2.jpg')\n",
    "\n",
    "client.basicGeneral(image)"
   ]
  },
  {
   "cell_type": "code",
   "execution_count": null,
   "id": "859448ef",
   "metadata": {},
   "outputs": [],
   "source": []
  }
 ],
 "metadata": {
  "kernelspec": {
   "display_name": "Python 3",
   "language": "python",
   "name": "python3"
  },
  "language_info": {
   "codemirror_mode": {
    "name": "ipython",
    "version": 3
   },
   "file_extension": ".py",
   "mimetype": "text/x-python",
   "name": "python",
   "nbconvert_exporter": "python",
   "pygments_lexer": "ipython3",
   "version": "3.8.8"
  }
 },
 "nbformat": 4,
 "nbformat_minor": 5
}
