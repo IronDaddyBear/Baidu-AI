{
 "cells": [
  {
   "cell_type": "code",
   "execution_count": 28,
   "id": "5d0cac02",
   "metadata": {},
   "outputs": [],
   "source": [
    "from aip import AipSpeech\n",
    "\n",
    "\"\"\" 你的 APPID AK SK \"\"\"\n",
    "APP_ID = '24733858'\n",
    "API_KEY = 'WfEsZ9h8ZvbkmZlZ3HQWV4tA'\n",
    "SECRET_KEY = 'uCwir6x9dnoSk2CpytsjdYiaKNquM2w7'\n",
    "\n",
    "client = AipSpeech(APP_ID, API_KEY, SECRET_KEY)"
   ]
  },
  {
   "cell_type": "code",
   "execution_count": 29,
   "id": "00de23a8",
   "metadata": {},
   "outputs": [],
   "source": [
    " result  = client.synthesis('学习手册,试读本,Python编程,从入门到实践,A HANDS-ON PROJECT-BASED INTRODUCTION TO PROGRAMMING, 解决100万蟒蛇书读者遇到的常见问题,美]埃里克·马瑟斯,豌豆花下猫著','zh', 3, {\n",
    "    'vol': 5,\n",
    " })\n",
    "\n",
    "#result  = client.synthesis('Given the virtual format, we are planning on keeping the daily agenda manageable. There will be 2 to 3-hour sessions only each day at a time that will reach the broadest number of you. Per my point above, the agenda will center around 2022 business strategy and leadership alignment as we head into this new fiscal year,学习手册, 解决100万蟒蛇书读者遇到的常见问题,美 埃里克·马瑟斯,豌豆花下猫著','zh', 3, {\n",
    "#   'vol': 5,\n",
    "#})\n",
    "\n",
    " \n",
    "# 识别正确返回语音二进制 错误则返回dict 参照下面错误码\n",
    "if not isinstance(result, dict):\n",
    "    with open('audio.mp3', 'wb') as f:\n",
    "        f.write(result)"
   ]
  },
  {
   "cell_type": "code",
   "execution_count": null,
   "id": "19c223bf",
   "metadata": {},
   "outputs": [],
   "source": []
  },
  {
   "cell_type": "code",
   "execution_count": null,
   "id": "3fb16bd0",
   "metadata": {},
   "outputs": [],
   "source": []
  }
 ],
 "metadata": {
  "kernelspec": {
   "display_name": "Python 3",
   "language": "python",
   "name": "python3"
  },
  "language_info": {
   "codemirror_mode": {
    "name": "ipython",
    "version": 3
   },
   "file_extension": ".py",
   "mimetype": "text/x-python",
   "name": "python",
   "nbconvert_exporter": "python",
   "pygments_lexer": "ipython3",
   "version": "3.8.8"
  }
 },
 "nbformat": 4,
 "nbformat_minor": 5
}
